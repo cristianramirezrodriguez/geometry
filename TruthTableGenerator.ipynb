{
  "nbformat": 4,
  "nbformat_minor": 0,
  "metadata": {
    "colab": {
      "provenance": [],
      "authorship_tag": "ABX9TyP4qR4N/aZBs+97VcQjA2IC",
      "include_colab_link": true
    },
    "kernelspec": {
      "name": "python3",
      "display_name": "Python 3"
    },
    "language_info": {
      "name": "python"
    }
  },
  "cells": [
    {
      "cell_type": "markdown",
      "metadata": {
        "id": "view-in-github",
        "colab_type": "text"
      },
      "source": [
        "<a href=\"https://colab.research.google.com/github/cristianramirezrodriguez/geometry/blob/main/TruthTableGenerator.ipynb\" target=\"_parent\"><img src=\"https://colab.research.google.com/assets/colab-badge.svg\" alt=\"Open In Colab\"/></a>"
      ]
    },
    {
      "cell_type": "code",
      "execution_count": null,
      "metadata": {
        "id": "t3rq7mfhUjXM"
      },
      "outputs": [],
      "source": [
        "'''\n",
        "Enter a logical expression using ~ for NOT, & for AND, | for OR, -> for conditional, and <-> for biconditional\n",
        "'''\n",
        "\n",
        "from itertools import product\n",
        "\n",
        "def evaluate_expression(expression, values):\n",
        "    expression = expression.replace('&', 'and').replace('|', 'or').replace('~', 'not ').replace('->', '>=').replace('<->', '==')\n",
        "\n",
        "    for var, val in zip(variables, values):\n",
        "        expression = expression.replace(var, str(val))\n",
        "\n",
        "    return eval(expression)\n",
        "\n",
        "def generate_truth_table(expression, variables):\n",
        "    table_header = variables + [expression]\n",
        "    table = [table_header]\n",
        "\n",
        "    num_variables = len(variables)\n",
        "    num_rows = 2**num_variables\n",
        "\n",
        "    for row_values in product([True, False], repeat=num_variables):\n",
        "        row_values_list = list(row_values)\n",
        "\n",
        "        subexpressions = []\n",
        "        for var in variables:\n",
        "            subexpression = expression.replace(var, str(row_values_list[variables.index(var)]))\n",
        "            subexpressions.append(subexpression)\n",
        "\n",
        "        subexpression_results = [evaluate_expression(sub, row_values_list) for sub in subexpressions]\n",
        "\n",
        "        table.append(row_values_list + subexpression_results + [evaluate_expression(expression, row_values_list)])\n",
        "\n",
        "    return table\n",
        "\n",
        "expression = input(\"Enter a logical expression using ~ for NOT, & for AND, | for OR, -> for conditional, and <-> for biconditional: \")\n",
        "variables = set(char for char in expression if char.isalpha())\n",
        "truth_table = generate_truth_table(expression, list(variables))\n",
        "\n",
        "column_widths = [max(len(str(cell)) for cell in col) for col in zip(*truth_table)]\n",
        "\n",
        "print(\"+-\" + \"-+\".join(\"-\" * width for width in column_widths) + \"-+\")\n",
        "\n",
        "for row in truth_table:\n",
        "    print(\"| \" + \" | \".join(f\"{str(cell):{width}}\" for cell, width in zip(row, column_widths)) + \" |\")\n",
        "\n",
        "print(\"+-\" + \"-+\".join(\"-\" * width for width in column_widths) + \"-+\")\n"
      ]
    }
  ]
}
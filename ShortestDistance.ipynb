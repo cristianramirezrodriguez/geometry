{
  "nbformat": 4,
  "nbformat_minor": 0,
  "metadata": {
    "colab": {
      "provenance": [],
      "authorship_tag": "ABX9TyM2uhQ/g+BkKtVENzxeEgWF",
      "include_colab_link": true
    },
    "kernelspec": {
      "name": "python3",
      "display_name": "Python 3"
    },
    "language_info": {
      "name": "python"
    }
  },
  "cells": [
    {
      "cell_type": "markdown",
      "metadata": {
        "id": "view-in-github",
        "colab_type": "text"
      },
      "source": [
        "<a href=\"https://colab.research.google.com/github/cristianramirezrodriguez/geometry/blob/main/ShortestDistance.ipynb\" target=\"_parent\"><img src=\"https://colab.research.google.com/assets/colab-badge.svg\" alt=\"Open In Colab\"/></a>"
      ]
    },
    {
      "cell_type": "markdown",
      "source": [
        "As we went over in class, on the cartesian plane, the shortest distance between two points can be given by constructing a right tiangle between the two points and finding the hypotenuse between them. This code will takes in x, y and (optionally) z arguments for two points and finds the distance between them."
      ],
      "metadata": {
        "id": "La7VDBydbR4F"
      }
    },
    {
      "cell_type": "code",
      "execution_count": null,
      "metadata": {
        "id": "nCIxQb-4bNYJ"
      },
      "outputs": [],
      "source": [
        "import numpy as np\n",
        "\n",
        "def shortestdistance(point1, point2):\n",
        "  point1 = np.array(point1)\n",
        "  point2 = np.array(point2)\n",
        "  vec = np.ndarray.tolist(point2 - point1) #creating a distance vector between the two points\n",
        "  distance = np.linalg.norm(vec) #sqrt((y2-y1)^2+(x2-x1)^2)\n",
        "  return(distance)\n",
        "\n",
        "def coordinates(dimensions):\n",
        "    # Get coordinates for a point based on the specified dimensions (2D or 3D)\n",
        "    if dimensions == 2:\n",
        "        x = float(input(\"Enter x-coordinate: \"))\n",
        "        y = float(input(\"Enter y-coordinate: \"))\n",
        "        return [x, y]\n",
        "    elif dimensions == 3:\n",
        "        x = float(input(\"Enter x-coordinate: \"))\n",
        "        y = float(input(\"Enter y-coordinate: \"))\n",
        "        z = float(input(\"Enter z-coordinate: \"))\n",
        "        return [x, y, z]\n",
        "    else:\n",
        "        raise ValueError(\"Invalid number of dimensions. Must be 2 or 3.\")\n"
      ]
    },
    {
      "cell_type": "code",
      "source": [
        "dim = int(input(\"Do your points have two dimensions (x,y)? or three (x,y,z)? Type either 2 or 3: \"))\n",
        "print(\"I'll ask you for the coordinates of point 1 then point 2.\")\n",
        "point1 = coordinates(dim)\n",
        "print(\"Thank you, now for point 2.\")\n",
        "point2 = coordinates(dim)\n",
        "hypotenuse = shortestdistance(point1, point2)\n",
        "print(\"The distance between the two points is\", hypotenuse, \"!\")\n"
      ],
      "metadata": {
        "id": "Ua0xi5ZwePCA"
      },
      "execution_count": null,
      "outputs": []
    }
  ]
}